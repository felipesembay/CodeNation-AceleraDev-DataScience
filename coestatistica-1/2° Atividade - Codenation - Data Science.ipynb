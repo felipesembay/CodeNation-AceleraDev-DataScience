{
 "cells": [
  {
   "cell_type": "markdown",
   "metadata": {},
   "source": [
    "### AUTOR: Felipe Sembay"
   ]
  },
  {
   "cell_type": "markdown",
   "metadata": {},
   "source": [
    "<b> Conhecendo melhor nossa base de consumidores:</b> qual estado possui os clientes com melhores pontuações de crédito?\n",
    "\n",
    "    \n",
    "### Objetivo\n",
    "Queremos conhecer melhor nossos clientes por estado. Para isso, iniciamos uma análise na pontuação de crédito. Para realizar a verificação inicial, precisamos de alguns valores. Os valores são a média, a mediana, a moda e o desvio padrão da pontuação de crédito.\n",
    "\n",
    "Tópicos\n",
    "Neste desafio você aprenderá:\n",
    "\n",
    "- Média;\n",
    "- Mediana;\n",
    "- Moda;\n",
    "- Desvio padrão."
   ]
  },
  {
   "cell_type": "code",
   "execution_count": 1,
   "metadata": {},
   "outputs": [],
   "source": [
    "import pandas as pd\n",
    "import numpy as np\n",
    "import matplotlib.pyplot as plt\n",
    "import seaborn as sns\n",
    "sns.set_style('whitegrid') "
   ]
  },
  {
   "cell_type": "code",
   "execution_count": 3,
   "metadata": {},
   "outputs": [
    {
     "data": {
      "text/html": [
       "<div>\n",
       "<style scoped>\n",
       "    .dataframe tbody tr th:only-of-type {\n",
       "        vertical-align: middle;\n",
       "    }\n",
       "\n",
       "    .dataframe tbody tr th {\n",
       "        vertical-align: top;\n",
       "    }\n",
       "\n",
       "    .dataframe thead th {\n",
       "        text-align: right;\n",
       "    }\n",
       "</style>\n",
       "<table border=\"1\" class=\"dataframe\">\n",
       "  <thead>\n",
       "    <tr style=\"text-align: right;\">\n",
       "      <th></th>\n",
       "      <th>RowNumber</th>\n",
       "      <th>id</th>\n",
       "      <th>sobrenome</th>\n",
       "      <th>pontuacao_credito</th>\n",
       "      <th>estado_residencia</th>\n",
       "      <th>genero</th>\n",
       "      <th>idade</th>\n",
       "      <th>nivel_estabilidade</th>\n",
       "      <th>saldo_conta</th>\n",
       "      <th>numero_produtos</th>\n",
       "      <th>possui_cartao_de_credito</th>\n",
       "      <th>membro_ativo</th>\n",
       "    </tr>\n",
       "  </thead>\n",
       "  <tbody>\n",
       "    <tr>\n",
       "      <th>0</th>\n",
       "      <td>1</td>\n",
       "      <td>e7f44fcbd380d4cef7e6c232cc7e37895c3fd197</td>\n",
       "      <td>6d6e0aa1b9b413e442e2fb68df14b4fc3f91de50</td>\n",
       "      <td>619</td>\n",
       "      <td>SC</td>\n",
       "      <td>F</td>\n",
       "      <td>42</td>\n",
       "      <td>2</td>\n",
       "      <td>0.00</td>\n",
       "      <td>1</td>\n",
       "      <td>1</td>\n",
       "      <td>1</td>\n",
       "    </tr>\n",
       "    <tr>\n",
       "      <th>1</th>\n",
       "      <td>2</td>\n",
       "      <td>28dcb083ad90512da16b9430085c2cddb8ca5e12</td>\n",
       "      <td>48e1ad846796fa314f1b4a6702b83343eb5482c5</td>\n",
       "      <td>608</td>\n",
       "      <td>RS</td>\n",
       "      <td>F</td>\n",
       "      <td>41</td>\n",
       "      <td>1</td>\n",
       "      <td>83807.86</td>\n",
       "      <td>1</td>\n",
       "      <td>0</td>\n",
       "      <td>1</td>\n",
       "    </tr>\n",
       "    <tr>\n",
       "      <th>2</th>\n",
       "      <td>3</td>\n",
       "      <td>774bc378f787438c9c7594e536787d07a097a54b</td>\n",
       "      <td>f2b29d5d934de615812b697132e767dea0f1e9e2</td>\n",
       "      <td>502</td>\n",
       "      <td>SC</td>\n",
       "      <td>F</td>\n",
       "      <td>42</td>\n",
       "      <td>8</td>\n",
       "      <td>159660.80</td>\n",
       "      <td>3</td>\n",
       "      <td>1</td>\n",
       "      <td>0</td>\n",
       "    </tr>\n",
       "    <tr>\n",
       "      <th>3</th>\n",
       "      <td>4</td>\n",
       "      <td>043a71326f7096de155e7f0c559dc62b5e4b7239</td>\n",
       "      <td>85d5c9da7cddd8109ad32a6c348fe2bb10bf99f2</td>\n",
       "      <td>699</td>\n",
       "      <td>SC</td>\n",
       "      <td>F</td>\n",
       "      <td>39</td>\n",
       "      <td>1</td>\n",
       "      <td>0.00</td>\n",
       "      <td>2</td>\n",
       "      <td>0</td>\n",
       "      <td>0</td>\n",
       "    </tr>\n",
       "    <tr>\n",
       "      <th>4</th>\n",
       "      <td>5</td>\n",
       "      <td>37b3bb8ca243955fb3605ec7e1c2a4607cdb3b22</td>\n",
       "      <td>ddc89c837a6933639de75f28171057060bd322df</td>\n",
       "      <td>850</td>\n",
       "      <td>RS</td>\n",
       "      <td>F</td>\n",
       "      <td>43</td>\n",
       "      <td>2</td>\n",
       "      <td>125510.82</td>\n",
       "      <td>1</td>\n",
       "      <td>1</td>\n",
       "      <td>1</td>\n",
       "    </tr>\n",
       "  </tbody>\n",
       "</table>\n",
       "</div>"
      ],
      "text/plain": [
       "   RowNumber                                        id  \\\n",
       "0          1  e7f44fcbd380d4cef7e6c232cc7e37895c3fd197   \n",
       "1          2  28dcb083ad90512da16b9430085c2cddb8ca5e12   \n",
       "2          3  774bc378f787438c9c7594e536787d07a097a54b   \n",
       "3          4  043a71326f7096de155e7f0c559dc62b5e4b7239   \n",
       "4          5  37b3bb8ca243955fb3605ec7e1c2a4607cdb3b22   \n",
       "\n",
       "                                  sobrenome  pontuacao_credito  \\\n",
       "0  6d6e0aa1b9b413e442e2fb68df14b4fc3f91de50                619   \n",
       "1  48e1ad846796fa314f1b4a6702b83343eb5482c5                608   \n",
       "2  f2b29d5d934de615812b697132e767dea0f1e9e2                502   \n",
       "3  85d5c9da7cddd8109ad32a6c348fe2bb10bf99f2                699   \n",
       "4  ddc89c837a6933639de75f28171057060bd322df                850   \n",
       "\n",
       "  estado_residencia genero  idade  nivel_estabilidade  saldo_conta  \\\n",
       "0                SC      F     42                   2         0.00   \n",
       "1                RS      F     41                   1     83807.86   \n",
       "2                SC      F     42                   8    159660.80   \n",
       "3                SC      F     39                   1         0.00   \n",
       "4                RS      F     43                   2    125510.82   \n",
       "\n",
       "   numero_produtos  possui_cartao_de_credito  membro_ativo  \n",
       "0                1                         1             1  \n",
       "1                1                         0             1  \n",
       "2                3                         1             0  \n",
       "3                2                         0             0  \n",
       "4                1                         1             1  "
      ]
     },
     "execution_count": 3,
     "metadata": {},
     "output_type": "execute_result"
    }
   ],
   "source": [
    "df = pd.read_csv('desafio1.csv', sep=',')\n",
    "df.head()"
   ]
  },
  {
   "cell_type": "markdown",
   "metadata": {},
   "source": [
    "A resposta deve conter os valores da média, mediana, moda e desvio padrão da pontuação de crédito para cada estado do dataset."
   ]
  },
  {
   "cell_type": "code",
   "execution_count": 12,
   "metadata": {},
   "outputs": [
    {
     "name": "stdout",
     "output_type": "stream",
     "text": [
      "Este DataFrame possui 7000 linhas e 12 colunas.\n"
     ]
    }
   ],
   "source": [
    "print('Este DataFrame possui {} linhas e {} colunas.'.format(df.shape[0], df.shape[1]))"
   ]
  },
  {
   "cell_type": "code",
   "execution_count": 4,
   "metadata": {},
   "outputs": [
    {
     "data": {
      "text/html": [
       "<div>\n",
       "<style scoped>\n",
       "    .dataframe tbody tr th:only-of-type {\n",
       "        vertical-align: middle;\n",
       "    }\n",
       "\n",
       "    .dataframe tbody tr th {\n",
       "        vertical-align: top;\n",
       "    }\n",
       "\n",
       "    .dataframe thead th {\n",
       "        text-align: right;\n",
       "    }\n",
       "</style>\n",
       "<table border=\"1\" class=\"dataframe\">\n",
       "  <thead>\n",
       "    <tr style=\"text-align: right;\">\n",
       "      <th></th>\n",
       "      <th>RowNumber</th>\n",
       "      <th>pontuacao_credito</th>\n",
       "      <th>idade</th>\n",
       "      <th>nivel_estabilidade</th>\n",
       "      <th>saldo_conta</th>\n",
       "      <th>numero_produtos</th>\n",
       "      <th>possui_cartao_de_credito</th>\n",
       "      <th>membro_ativo</th>\n",
       "    </tr>\n",
       "  </thead>\n",
       "  <tbody>\n",
       "    <tr>\n",
       "      <th>count</th>\n",
       "      <td>7000.000000</td>\n",
       "      <td>7000.000000</td>\n",
       "      <td>7000.000000</td>\n",
       "      <td>7000.000000</td>\n",
       "      <td>7000.000000</td>\n",
       "      <td>7000.000000</td>\n",
       "      <td>7000.000000</td>\n",
       "      <td>7000.000000</td>\n",
       "    </tr>\n",
       "    <tr>\n",
       "      <th>mean</th>\n",
       "      <td>3500.500000</td>\n",
       "      <td>649.787000</td>\n",
       "      <td>38.892714</td>\n",
       "      <td>5.010286</td>\n",
       "      <td>76471.883751</td>\n",
       "      <td>1.526000</td>\n",
       "      <td>0.703286</td>\n",
       "      <td>0.512143</td>\n",
       "    </tr>\n",
       "    <tr>\n",
       "      <th>std</th>\n",
       "      <td>2020.870275</td>\n",
       "      <td>97.046279</td>\n",
       "      <td>10.465562</td>\n",
       "      <td>2.887500</td>\n",
       "      <td>62403.383911</td>\n",
       "      <td>0.583047</td>\n",
       "      <td>0.456842</td>\n",
       "      <td>0.499888</td>\n",
       "    </tr>\n",
       "    <tr>\n",
       "      <th>min</th>\n",
       "      <td>1.000000</td>\n",
       "      <td>350.000000</td>\n",
       "      <td>18.000000</td>\n",
       "      <td>0.000000</td>\n",
       "      <td>0.000000</td>\n",
       "      <td>1.000000</td>\n",
       "      <td>0.000000</td>\n",
       "      <td>0.000000</td>\n",
       "    </tr>\n",
       "    <tr>\n",
       "      <th>25%</th>\n",
       "      <td>1750.750000</td>\n",
       "      <td>582.000000</td>\n",
       "      <td>32.000000</td>\n",
       "      <td>3.000000</td>\n",
       "      <td>0.000000</td>\n",
       "      <td>1.000000</td>\n",
       "      <td>0.000000</td>\n",
       "      <td>0.000000</td>\n",
       "    </tr>\n",
       "    <tr>\n",
       "      <th>50%</th>\n",
       "      <td>3500.500000</td>\n",
       "      <td>651.000000</td>\n",
       "      <td>37.000000</td>\n",
       "      <td>5.000000</td>\n",
       "      <td>97277.130000</td>\n",
       "      <td>1.000000</td>\n",
       "      <td>1.000000</td>\n",
       "      <td>1.000000</td>\n",
       "    </tr>\n",
       "    <tr>\n",
       "      <th>75%</th>\n",
       "      <td>5250.250000</td>\n",
       "      <td>717.000000</td>\n",
       "      <td>44.000000</td>\n",
       "      <td>7.250000</td>\n",
       "      <td>127537.155000</td>\n",
       "      <td>2.000000</td>\n",
       "      <td>1.000000</td>\n",
       "      <td>1.000000</td>\n",
       "    </tr>\n",
       "    <tr>\n",
       "      <th>max</th>\n",
       "      <td>7000.000000</td>\n",
       "      <td>850.000000</td>\n",
       "      <td>92.000000</td>\n",
       "      <td>10.000000</td>\n",
       "      <td>250898.090000</td>\n",
       "      <td>4.000000</td>\n",
       "      <td>1.000000</td>\n",
       "      <td>1.000000</td>\n",
       "    </tr>\n",
       "  </tbody>\n",
       "</table>\n",
       "</div>"
      ],
      "text/plain": [
       "         RowNumber  pontuacao_credito        idade  nivel_estabilidade  \\\n",
       "count  7000.000000        7000.000000  7000.000000         7000.000000   \n",
       "mean   3500.500000         649.787000    38.892714            5.010286   \n",
       "std    2020.870275          97.046279    10.465562            2.887500   \n",
       "min       1.000000         350.000000    18.000000            0.000000   \n",
       "25%    1750.750000         582.000000    32.000000            3.000000   \n",
       "50%    3500.500000         651.000000    37.000000            5.000000   \n",
       "75%    5250.250000         717.000000    44.000000            7.250000   \n",
       "max    7000.000000         850.000000    92.000000           10.000000   \n",
       "\n",
       "         saldo_conta  numero_produtos  possui_cartao_de_credito  membro_ativo  \n",
       "count    7000.000000      7000.000000               7000.000000   7000.000000  \n",
       "mean    76471.883751         1.526000                  0.703286      0.512143  \n",
       "std     62403.383911         0.583047                  0.456842      0.499888  \n",
       "min         0.000000         1.000000                  0.000000      0.000000  \n",
       "25%         0.000000         1.000000                  0.000000      0.000000  \n",
       "50%     97277.130000         1.000000                  1.000000      1.000000  \n",
       "75%    127537.155000         2.000000                  1.000000      1.000000  \n",
       "max    250898.090000         4.000000                  1.000000      1.000000  "
      ]
     },
     "execution_count": 4,
     "metadata": {},
     "output_type": "execute_result"
    }
   ],
   "source": [
    "df.describe()"
   ]
  },
  {
   "cell_type": "code",
   "execution_count": 13,
   "metadata": {},
   "outputs": [
    {
     "data": {
      "text/plain": [
       "RowNumber                   0\n",
       "id                          0\n",
       "sobrenome                   0\n",
       "pontuacao_credito           0\n",
       "estado_residencia           0\n",
       "genero                      0\n",
       "idade                       0\n",
       "nivel_estabilidade          0\n",
       "saldo_conta                 0\n",
       "numero_produtos             0\n",
       "possui_cartao_de_credito    0\n",
       "membro_ativo                0\n",
       "dtype: int64"
      ]
     },
     "execution_count": 13,
     "metadata": {},
     "output_type": "execute_result"
    }
   ],
   "source": [
    "df.isnull().sum()"
   ]
  },
  {
   "cell_type": "markdown",
   "metadata": {},
   "source": [
    "- Avaliando os dados com o método describe, a pontuação de crédito aparentemente não apresenta outliers. \n",
    "- Na variável idade, podemos ter outliers visto que a diferença da média, mediana e 3° quartil comparado ao 4° quartil foi bem elevada. Mas não é impossível termos pessoas acima dos 90 anos. Então, neste caso vale a pena investigar mais esta variável. \n",
    "- Saldo em conta também possuí uma grande diferença entre o 3° e 4° quartil. Pode sim haver outliers. \n",
    "- Possui cartão: como é uma variável dummy (0 e 1) não há muita discrepância nos dados. Mas como a média deu acima de 0,5, então deduzimos que a maioria das pessoas possuem algum cartão de crédito. \n",
    "- Membro Ativo: 51,21% das membros acessam e consomem frequentemente. "
   ]
  },
  {
   "cell_type": "code",
   "execution_count": 36,
   "metadata": {},
   "outputs": [
    {
     "data": {
      "image/png": "[encoded data removed]",
      "text/plain": [
       "<Figure size 432x288 with 1 Axes>"
      ]
     },
     "metadata": {
      "needs_background": "light"
     },
     "output_type": "display_data"
    }
   ],
   "source": [
    "sns.countplot(x='estado_residencia', data=df);"
   ]
  },
  {
   "cell_type": "code",
   "execution_count": 7,
   "metadata": {},
   "outputs": [
    {
     "data": {
      "text/plain": [
       "SC    3519\n",
       "RS    1750\n",
       "PR    1731\n",
       "Name: estado_residencia, dtype: int64"
      ]
     },
     "execution_count": 7,
     "metadata": {},
     "output_type": "execute_result"
    }
   ],
   "source": [
    "df['estado_residencia'].value_counts()"
   ]
  },
  {
   "cell_type": "code",
   "execution_count": 37,
   "metadata": {},
   "outputs": [
    {
     "data": {
      "image/png": "[encoded data removed]",
      "text/plain": [
       "<Figure size 432x288 with 1 Axes>"
      ]
     },
     "metadata": {
      "needs_background": "light"
     },
     "output_type": "display_data"
    }
   ],
   "source": [
    "sns.countplot(x='genero', data=df);"
   ]
  },
  {
   "cell_type": "code",
   "execution_count": 8,
   "metadata": {},
   "outputs": [
    {
     "data": {
      "text/plain": [
       "M    3791\n",
       "F    3209\n",
       "Name: genero, dtype: int64"
      ]
     },
     "execution_count": 8,
     "metadata": {},
     "output_type": "execute_result"
    }
   ],
   "source": [
    "df['genero'].value_counts()"
   ]
  },
  {
   "cell_type": "code",
   "execution_count": 38,
   "metadata": {},
   "outputs": [
    {
     "data": {
      "image/png": "[encoded data removed]",
      "text/plain": [
       "<Figure size 432x288 with 1 Axes>"
      ]
     },
     "metadata": {
      "needs_background": "light"
     },
     "output_type": "display_data"
    }
   ],
   "source": [
    "sns.countplot(x='possui_cartao_de_credito', data=df);"
   ]
  },
  {
   "cell_type": "code",
   "execution_count": 10,
   "metadata": {},
   "outputs": [
    {
     "data": {
      "text/plain": [
       "1    4923\n",
       "0    2077\n",
       "Name: possui_cartao_de_credito, dtype: int64"
      ]
     },
     "execution_count": 10,
     "metadata": {},
     "output_type": "execute_result"
    }
   ],
   "source": [
    "df['possui_cartao_de_credito'].value_counts()"
   ]
  },
  {
   "cell_type": "code",
   "execution_count": 16,
   "metadata": {},
   "outputs": [
    {
     "data": {
      "text/plain": [
       "<matplotlib.axes._subplots.AxesSubplot at 0x7fd64c876b50>"
      ]
     },
     "execution_count": 16,
     "metadata": {},
     "output_type": "execute_result"
    },
    {
     "data": {
      "image/png": "[encoded data removed]",
      "text/plain": [
       "<Figure size 432x288 with 1 Axes>"
      ]
     },
     "metadata": {
      "needs_background": "light"
     },
     "output_type": "display_data"
    }
   ],
   "source": [
    "sns.boxplot(x='estado_residencia', y='pontuacao_credito', hue='genero', data=df)"
   ]
  },
  {
   "cell_type": "code",
   "execution_count": 17,
   "metadata": {},
   "outputs": [
    {
     "data": {
      "text/plain": [
       "<matplotlib.axes._subplots.AxesSubplot at 0x7fd64c19ebd0>"
      ]
     },
     "execution_count": 17,
     "metadata": {},
     "output_type": "execute_result"
    },
    {
     "data": {
      "image/png": "[encoded data removed]",
      "text/plain": [
       "<Figure size 432x288 with 1 Axes>"
      ]
     },
     "metadata": {
      "needs_background": "light"
     },
     "output_type": "display_data"
    }
   ],
   "source": [
    "sns.boxplot(x='estado_residencia', y='idade', hue='genero', data=df)"
   ]
  },
  {
   "cell_type": "code",
   "execution_count": 19,
   "metadata": {},
   "outputs": [
    {
     "data": {
      "image/png": "[encoded data removed]",
      "text/plain": [
       "<Figure size 792x360 with 1 Axes>"
      ]
     },
     "metadata": {
      "needs_background": "light"
     },
     "output_type": "display_data"
    }
   ],
   "source": [
    "plt.figure(figsize=(11, 5))\n",
    "plt.hist(df['pontuacao_credito'], bins=50, color = 'purple')\n",
    "plt.grid()\n",
    "plt.xlabel('pontuacao_credito')\n",
    "plt.ylabel('Frequência')\n",
    "plt.title('Variação das pontuações de Crédito')\n",
    "plt.show()"
   ]
  },
  {
   "cell_type": "markdown",
   "metadata": {},
   "source": [
    "- No gráfico acima, podemos identificar uma distribuição dos dados bem regular. Apenas a ultima barra que pode indicar outliers, visto que ela se apresenta bem anomala. "
   ]
  },
  {
   "cell_type": "code",
   "execution_count": 22,
   "metadata": {},
   "outputs": [
    {
     "data": {
      "image/png": "[encoded data removed]",
      "text/plain": [
       "<Figure size 864x504 with 1 Axes>"
      ]
     },
     "metadata": {
      "needs_background": "light"
     },
     "output_type": "display_data"
    }
   ],
   "source": [
    "plt.figure(figsize=(12, 7))\n",
    "plt.hist(df['idade'], bins=50, color = 'purple')\n",
    "plt.grid()\n",
    "plt.xlabel('Idade')\n",
    "plt.ylabel('Frequência')\n",
    "plt.title('Frequência das Idades')\n",
    "plt.show()"
   ]
  },
  {
   "cell_type": "code",
   "execution_count": 26,
   "metadata": {},
   "outputs": [
    {
     "data": {
      "text/html": [
       "<div>\n",
       "<style scoped>\n",
       "    .dataframe tbody tr th:only-of-type {\n",
       "        vertical-align: middle;\n",
       "    }\n",
       "\n",
       "    .dataframe tbody tr th {\n",
       "        vertical-align: top;\n",
       "    }\n",
       "\n",
       "    .dataframe thead th {\n",
       "        text-align: right;\n",
       "    }\n",
       "</style>\n",
       "<table border=\"1\" class=\"dataframe\">\n",
       "  <thead>\n",
       "    <tr style=\"text-align: right;\">\n",
       "      <th></th>\n",
       "      <th>RowNumber</th>\n",
       "      <th>id</th>\n",
       "      <th>sobrenome</th>\n",
       "      <th>pontuacao_credito</th>\n",
       "      <th>estado_residencia</th>\n",
       "      <th>genero</th>\n",
       "      <th>idade</th>\n",
       "      <th>nivel_estabilidade</th>\n",
       "      <th>saldo_conta</th>\n",
       "      <th>numero_produtos</th>\n",
       "      <th>possui_cartao_de_credito</th>\n",
       "      <th>membro_ativo</th>\n",
       "    </tr>\n",
       "  </thead>\n",
       "  <tbody>\n",
       "    <tr>\n",
       "      <th>6759</th>\n",
       "      <td>6760</td>\n",
       "      <td>f7bdf2b3451c6c97ff5a74872d5f364894092c25</td>\n",
       "      <td>8da4f37f4aef0aa4bb5a4443291dff3c89425cda</td>\n",
       "      <td>705</td>\n",
       "      <td>SC</td>\n",
       "      <td>M</td>\n",
       "      <td>92</td>\n",
       "      <td>1</td>\n",
       "      <td>126076.24</td>\n",
       "      <td>2</td>\n",
       "      <td>1</td>\n",
       "      <td>1</td>\n",
       "    </tr>\n",
       "    <tr>\n",
       "      <th>6443</th>\n",
       "      <td>6444</td>\n",
       "      <td>1467883b7dab1c6d851beb59ddadd97979f8ac9c</td>\n",
       "      <td>03dfa0e275b7b0d35ddd4ee1d90a1aa3dc16520b</td>\n",
       "      <td>753</td>\n",
       "      <td>SC</td>\n",
       "      <td>M</td>\n",
       "      <td>92</td>\n",
       "      <td>3</td>\n",
       "      <td>121513.31</td>\n",
       "      <td>1</td>\n",
       "      <td>0</td>\n",
       "      <td>1</td>\n",
       "    </tr>\n",
       "    <tr>\n",
       "      <th>2458</th>\n",
       "      <td>2459</td>\n",
       "      <td>00510f75b038dc89181d2735992bdeadfb838c2e</td>\n",
       "      <td>4cfc1f8594cdeb009db64988735c11a31a64b2a1</td>\n",
       "      <td>513</td>\n",
       "      <td>RS</td>\n",
       "      <td>M</td>\n",
       "      <td>88</td>\n",
       "      <td>10</td>\n",
       "      <td>0.00</td>\n",
       "      <td>2</td>\n",
       "      <td>1</td>\n",
       "      <td>1</td>\n",
       "    </tr>\n",
       "    <tr>\n",
       "      <th>3033</th>\n",
       "      <td>3034</td>\n",
       "      <td>95b5b764884af35cc6d591a66157ac318cc80ee1</td>\n",
       "      <td>30ca9938c79d4c94bc2d97e342af28437db103f5</td>\n",
       "      <td>787</td>\n",
       "      <td>SC</td>\n",
       "      <td>F</td>\n",
       "      <td>85</td>\n",
       "      <td>10</td>\n",
       "      <td>0.00</td>\n",
       "      <td>2</td>\n",
       "      <td>1</td>\n",
       "      <td>1</td>\n",
       "    </tr>\n",
       "    <tr>\n",
       "      <th>3531</th>\n",
       "      <td>3532</td>\n",
       "      <td>96cfcbaf1389dc00985f7db073be56939963a290</td>\n",
       "      <td>3171abfdb5f00e96815f038cb7e0162531e3796f</td>\n",
       "      <td>408</td>\n",
       "      <td>SC</td>\n",
       "      <td>F</td>\n",
       "      <td>84</td>\n",
       "      <td>8</td>\n",
       "      <td>87873.39</td>\n",
       "      <td>1</td>\n",
       "      <td>0</td>\n",
       "      <td>0</td>\n",
       "    </tr>\n",
       "    <tr>\n",
       "      <th>3387</th>\n",
       "      <td>3388</td>\n",
       "      <td>264329d033c068dbb84ca65f559ae902a6de8fa8</td>\n",
       "      <td>53af4e5de0821a79347fdbec8b2d6615fc509fbf</td>\n",
       "      <td>537</td>\n",
       "      <td>PR</td>\n",
       "      <td>M</td>\n",
       "      <td>84</td>\n",
       "      <td>8</td>\n",
       "      <td>92242.34</td>\n",
       "      <td>1</td>\n",
       "      <td>1</td>\n",
       "      <td>1</td>\n",
       "    </tr>\n",
       "    <tr>\n",
       "      <th>766</th>\n",
       "      <td>767</td>\n",
       "      <td>bcfcd943b7880f9703737adcb5a92fe00990f052</td>\n",
       "      <td>450d5f5a9f3e9bf16c2f9126e5edeab92e2c33a5</td>\n",
       "      <td>700</td>\n",
       "      <td>SC</td>\n",
       "      <td>F</td>\n",
       "      <td>82</td>\n",
       "      <td>2</td>\n",
       "      <td>0.00</td>\n",
       "      <td>2</td>\n",
       "      <td>0</td>\n",
       "      <td>1</td>\n",
       "    </tr>\n",
       "    <tr>\n",
       "      <th>4931</th>\n",
       "      <td>4932</td>\n",
       "      <td>905557bd256a79a5913589d3eca18eb3cc9fb87c</td>\n",
       "      <td>40fc87c0574b7baa7eecd7f7f12af2ad56909ebb</td>\n",
       "      <td>682</td>\n",
       "      <td>PR</td>\n",
       "      <td>M</td>\n",
       "      <td>81</td>\n",
       "      <td>6</td>\n",
       "      <td>122029.15</td>\n",
       "      <td>1</td>\n",
       "      <td>1</td>\n",
       "      <td>1</td>\n",
       "    </tr>\n",
       "    <tr>\n",
       "      <th>3994</th>\n",
       "      <td>3995</td>\n",
       "      <td>37c449b81921bd3484a1b9fcfa5c8f90952c0afc</td>\n",
       "      <td>d569bf3dc7d0a4351d56d39246b9f5b62f427ada</td>\n",
       "      <td>809</td>\n",
       "      <td>RS</td>\n",
       "      <td>M</td>\n",
       "      <td>80</td>\n",
       "      <td>8</td>\n",
       "      <td>0.00</td>\n",
       "      <td>2</td>\n",
       "      <td>0</td>\n",
       "      <td>1</td>\n",
       "    </tr>\n",
       "    <tr>\n",
       "      <th>310</th>\n",
       "      <td>311</td>\n",
       "      <td>1e8e1b4efcc58c54216f4758d0b83b3e8a3d1474</td>\n",
       "      <td>cad0aba52bda9f5e7241dc3b749f929574c12ce2</td>\n",
       "      <td>652</td>\n",
       "      <td>SC</td>\n",
       "      <td>F</td>\n",
       "      <td>80</td>\n",
       "      <td>4</td>\n",
       "      <td>0.00</td>\n",
       "      <td>2</td>\n",
       "      <td>1</td>\n",
       "      <td>1</td>\n",
       "    </tr>\n",
       "  </tbody>\n",
       "</table>\n",
       "</div>"
      ],
      "text/plain": [
       "      RowNumber                                        id  \\\n",
       "6759       6760  f7bdf2b3451c6c97ff5a74872d5f364894092c25   \n",
       "6443       6444  1467883b7dab1c6d851beb59ddadd97979f8ac9c   \n",
       "2458       2459  00510f75b038dc89181d2735992bdeadfb838c2e   \n",
       "3033       3034  95b5b764884af35cc6d591a66157ac318cc80ee1   \n",
       "3531       3532  96cfcbaf1389dc00985f7db073be56939963a290   \n",
       "3387       3388  264329d033c068dbb84ca65f559ae902a6de8fa8   \n",
       "766         767  bcfcd943b7880f9703737adcb5a92fe00990f052   \n",
       "4931       4932  905557bd256a79a5913589d3eca18eb3cc9fb87c   \n",
       "3994       3995  37c449b81921bd3484a1b9fcfa5c8f90952c0afc   \n",
       "310         311  1e8e1b4efcc58c54216f4758d0b83b3e8a3d1474   \n",
       "\n",
       "                                     sobrenome  pontuacao_credito  \\\n",
       "6759  8da4f37f4aef0aa4bb5a4443291dff3c89425cda                705   \n",
       "6443  03dfa0e275b7b0d35ddd4ee1d90a1aa3dc16520b                753   \n",
       "2458  4cfc1f8594cdeb009db64988735c11a31a64b2a1                513   \n",
       "3033  30ca9938c79d4c94bc2d97e342af28437db103f5                787   \n",
       "3531  3171abfdb5f00e96815f038cb7e0162531e3796f                408   \n",
       "3387  53af4e5de0821a79347fdbec8b2d6615fc509fbf                537   \n",
       "766   450d5f5a9f3e9bf16c2f9126e5edeab92e2c33a5                700   \n",
       "4931  40fc87c0574b7baa7eecd7f7f12af2ad56909ebb                682   \n",
       "3994  d569bf3dc7d0a4351d56d39246b9f5b62f427ada                809   \n",
       "310   cad0aba52bda9f5e7241dc3b749f929574c12ce2                652   \n",
       "\n",
       "     estado_residencia genero  idade  nivel_estabilidade  saldo_conta  \\\n",
       "6759                SC      M     92                   1    126076.24   \n",
       "6443                SC      M     92                   3    121513.31   \n",
       "2458                RS      M     88                  10         0.00   \n",
       "3033                SC      F     85                  10         0.00   \n",
       "3531                SC      F     84                   8     87873.39   \n",
       "3387                PR      M     84                   8     92242.34   \n",
       "766                 SC      F     82                   2         0.00   \n",
       "4931                PR      M     81                   6    122029.15   \n",
       "3994                RS      M     80                   8         0.00   \n",
       "310                 SC      F     80                   4         0.00   \n",
       "\n",
       "      numero_produtos  possui_cartao_de_credito  membro_ativo  \n",
       "6759                2                         1             1  \n",
       "6443                1                         0             1  \n",
       "2458                2                         1             1  \n",
       "3033                2                         1             1  \n",
       "3531                1                         0             0  \n",
       "3387                1                         1             1  \n",
       "766                 2                         0             1  \n",
       "4931                1                         1             1  \n",
       "3994                2                         0             1  \n",
       "310                 2                         1             1  "
      ]
     },
     "execution_count": 26,
     "metadata": {},
     "output_type": "execute_result"
    }
   ],
   "source": [
    "df['idade']\n",
    "df.sort_values(by='idade', ascending=False).head(10)"
   ]
  },
  {
   "cell_type": "code",
   "execution_count": 40,
   "metadata": {},
   "outputs": [
    {
     "data": {
      "image/png": "[encoded data removed]",
      "text/plain": [
       "<Figure size 404.625x360 with 1 Axes>"
      ]
     },
     "metadata": {
      "needs_background": "light"
     },
     "output_type": "display_data"
    }
   ],
   "source": [
    "sns.lmplot(x='idade',y='pontuacao_credito',hue='genero' ,data=df);"
   ]
  },
  {
   "cell_type": "markdown",
   "metadata": {},
   "source": [
    "- Neste gráfico não conseguimos identificar nenhuma tendência ou correlação entre Idade e Pontuação de Crédito. "
   ]
  },
  {
   "cell_type": "code",
   "execution_count": 31,
   "metadata": {},
   "outputs": [
    {
     "data": {
      "text/html": [
       "<div>\n",
       "<style scoped>\n",
       "    .dataframe tbody tr th:only-of-type {\n",
       "        vertical-align: middle;\n",
       "    }\n",
       "\n",
       "    .dataframe tbody tr th {\n",
       "        vertical-align: top;\n",
       "    }\n",
       "\n",
       "    .dataframe thead th {\n",
       "        text-align: right;\n",
       "    }\n",
       "</style>\n",
       "<table border=\"1\" class=\"dataframe\">\n",
       "  <thead>\n",
       "    <tr style=\"text-align: right;\">\n",
       "      <th>genero</th>\n",
       "      <th>F</th>\n",
       "      <th>M</th>\n",
       "    </tr>\n",
       "    <tr>\n",
       "      <th>estado_residencia</th>\n",
       "      <th></th>\n",
       "      <th></th>\n",
       "    </tr>\n",
       "  </thead>\n",
       "  <tbody>\n",
       "    <tr>\n",
       "      <th>PR</th>\n",
       "      <td>648.570208</td>\n",
       "      <td>649.312500</td>\n",
       "    </tr>\n",
       "    <tr>\n",
       "      <th>RS</th>\n",
       "      <td>649.738306</td>\n",
       "      <td>652.232534</td>\n",
       "    </tr>\n",
       "    <tr>\n",
       "      <th>SC</th>\n",
       "      <td>648.067542</td>\n",
       "      <td>650.761979</td>\n",
       "    </tr>\n",
       "  </tbody>\n",
       "</table>\n",
       "</div>"
      ],
      "text/plain": [
       "genero                      F           M\n",
       "estado_residencia                        \n",
       "PR                 648.570208  649.312500\n",
       "RS                 649.738306  652.232534\n",
       "SC                 648.067542  650.761979"
      ]
     },
     "execution_count": 31,
     "metadata": {},
     "output_type": "execute_result"
    }
   ],
   "source": [
    "df.groupby(by=['estado_residencia','genero']).mean()['pontuacao_credito'].unstack()"
   ]
  },
  {
   "cell_type": "code",
   "execution_count": 32,
   "metadata": {},
   "outputs": [
    {
     "data": {
      "text/html": [
       "<div>\n",
       "<style scoped>\n",
       "    .dataframe tbody tr th:only-of-type {\n",
       "        vertical-align: middle;\n",
       "    }\n",
       "\n",
       "    .dataframe tbody tr th {\n",
       "        vertical-align: top;\n",
       "    }\n",
       "\n",
       "    .dataframe thead th {\n",
       "        text-align: right;\n",
       "    }\n",
       "</style>\n",
       "<table border=\"1\" class=\"dataframe\">\n",
       "  <thead>\n",
       "    <tr style=\"text-align: right;\">\n",
       "      <th>genero</th>\n",
       "      <th>F</th>\n",
       "      <th>M</th>\n",
       "    </tr>\n",
       "    <tr>\n",
       "      <th>estado_residencia</th>\n",
       "      <th></th>\n",
       "      <th></th>\n",
       "    </tr>\n",
       "  </thead>\n",
       "  <tbody>\n",
       "    <tr>\n",
       "      <th>PR</th>\n",
       "      <td>648.0</td>\n",
       "      <td>651.0</td>\n",
       "    </tr>\n",
       "    <tr>\n",
       "      <th>RS</th>\n",
       "      <td>651.0</td>\n",
       "      <td>650.0</td>\n",
       "    </tr>\n",
       "    <tr>\n",
       "      <th>SC</th>\n",
       "      <td>651.0</td>\n",
       "      <td>654.0</td>\n",
       "    </tr>\n",
       "  </tbody>\n",
       "</table>\n",
       "</div>"
      ],
      "text/plain": [
       "genero                 F      M\n",
       "estado_residencia              \n",
       "PR                 648.0  651.0\n",
       "RS                 651.0  650.0\n",
       "SC                 651.0  654.0"
      ]
     },
     "execution_count": 32,
     "metadata": {},
     "output_type": "execute_result"
    }
   ],
   "source": [
    "df.groupby(by=['estado_residencia','genero']).median()['pontuacao_credito'].unstack()"
   ]
  },
  {
   "cell_type": "code",
   "execution_count": 33,
   "metadata": {},
   "outputs": [
    {
     "data": {
      "text/html": [
       "<div>\n",
       "<style scoped>\n",
       "    .dataframe tbody tr th:only-of-type {\n",
       "        vertical-align: middle;\n",
       "    }\n",
       "\n",
       "    .dataframe tbody tr th {\n",
       "        vertical-align: top;\n",
       "    }\n",
       "\n",
       "    .dataframe thead th {\n",
       "        text-align: right;\n",
       "    }\n",
       "</style>\n",
       "<table border=\"1\" class=\"dataframe\">\n",
       "  <thead>\n",
       "    <tr style=\"text-align: right;\">\n",
       "      <th>genero</th>\n",
       "      <th>F</th>\n",
       "      <th>M</th>\n",
       "    </tr>\n",
       "    <tr>\n",
       "      <th>estado_residencia</th>\n",
       "      <th></th>\n",
       "      <th></th>\n",
       "    </tr>\n",
       "  </thead>\n",
       "  <tbody>\n",
       "    <tr>\n",
       "      <th>PR</th>\n",
       "      <td>99.339793</td>\n",
       "      <td>97.997838</td>\n",
       "    </tr>\n",
       "    <tr>\n",
       "      <th>RS</th>\n",
       "      <td>95.077815</td>\n",
       "      <td>95.219881</td>\n",
       "    </tr>\n",
       "    <tr>\n",
       "      <th>SC</th>\n",
       "      <td>97.336477</td>\n",
       "      <td>97.156021</td>\n",
       "    </tr>\n",
       "  </tbody>\n",
       "</table>\n",
       "</div>"
      ],
      "text/plain": [
       "genero                     F          M\n",
       "estado_residencia                      \n",
       "PR                 99.339793  97.997838\n",
       "RS                 95.077815  95.219881\n",
       "SC                 97.336477  97.156021"
      ]
     },
     "execution_count": 33,
     "metadata": {},
     "output_type": "execute_result"
    }
   ],
   "source": [
    "df.groupby(by=['estado_residencia','genero']).std()['pontuacao_credito'].unstack()"
   ]
  },
  {
   "cell_type": "code",
   "execution_count": 43,
   "metadata": {},
   "outputs": [
    {
     "data": {
      "image/png": "[encoded data removed]",
      "text/plain": [
       "<Figure size 432x288 with 2 Axes>"
      ]
     },
     "metadata": {
      "needs_background": "light"
     },
     "output_type": "display_data"
    }
   ],
   "source": [
    "sns.heatmap(df.corr(), annot = True);"
   ]
  },
  {
   "cell_type": "code",
   "execution_count": 46,
   "metadata": {},
   "outputs": [],
   "source": [
    "# Função para pegar os valores:\n",
    "def get_stats(df):\n",
    "    return {'moda': df.mode()[0], 'mediana': df.median(), 'media': df.mean(), 'desvio_padrao': df.std()}"
   ]
  },
  {
   "cell_type": "code",
   "execution_count": 47,
   "metadata": {},
   "outputs": [
    {
     "data": {
      "text/html": [
       "<div>\n",
       "<style scoped>\n",
       "    .dataframe tbody tr th:only-of-type {\n",
       "        vertical-align: middle;\n",
       "    }\n",
       "\n",
       "    .dataframe tbody tr th {\n",
       "        vertical-align: top;\n",
       "    }\n",
       "\n",
       "    .dataframe thead th {\n",
       "        text-align: right;\n",
       "    }\n",
       "</style>\n",
       "<table border=\"1\" class=\"dataframe\">\n",
       "  <thead>\n",
       "    <tr style=\"text-align: right;\">\n",
       "      <th></th>\n",
       "      <th>desvio_padrao</th>\n",
       "      <th>media</th>\n",
       "      <th>mediana</th>\n",
       "      <th>moda</th>\n",
       "    </tr>\n",
       "    <tr>\n",
       "      <th>estado_residencia</th>\n",
       "      <th></th>\n",
       "      <th></th>\n",
       "      <th></th>\n",
       "      <th></th>\n",
       "    </tr>\n",
       "  </thead>\n",
       "  <tbody>\n",
       "    <tr>\n",
       "      <th>PR</th>\n",
       "      <td>98.607186</td>\n",
       "      <td>648.961294</td>\n",
       "      <td>650.0</td>\n",
       "      <td>850.0</td>\n",
       "    </tr>\n",
       "    <tr>\n",
       "      <th>RS</th>\n",
       "      <td>95.136598</td>\n",
       "      <td>651.105143</td>\n",
       "      <td>650.0</td>\n",
       "      <td>850.0</td>\n",
       "    </tr>\n",
       "    <tr>\n",
       "      <th>SC</th>\n",
       "      <td>97.233493</td>\n",
       "      <td>649.537653</td>\n",
       "      <td>653.0</td>\n",
       "      <td>850.0</td>\n",
       "    </tr>\n",
       "  </tbody>\n",
       "</table>\n",
       "</div>"
      ],
      "text/plain": [
       "                   desvio_padrao       media  mediana   moda\n",
       "estado_residencia                                           \n",
       "PR                     98.607186  648.961294    650.0  850.0\n",
       "RS                     95.136598  651.105143    650.0  850.0\n",
       "SC                     97.233493  649.537653    653.0  850.0"
      ]
     },
     "execution_count": 47,
     "metadata": {},
     "output_type": "execute_result"
    }
   ],
   "source": [
    "# Agrupando a pontuação de cŕedito por Estado:\n",
    "df_group = df['pontuacao_credito'].groupby(df['estado_residencia']).apply(get_stats).unstack()\n",
    "df_group"
   ]
  },
  {
   "cell_type": "code",
   "execution_count": 48,
   "metadata": {},
   "outputs": [],
   "source": [
    "# Criando o arquivo de resposta:\n",
    "df_group.to_json('submission.json', orient='index')"
   ]
  },
  {
   "cell_type": "markdown",
   "metadata": {},
   "source": [
    "A resposta deve conter os valores da média, mediana, moda e desvio padrão da pontuação de crédito para cada estado do dataset."
   ]
  }
 ],
 "metadata": {
  "kernelspec": {
   "display_name": "Python 3",
   "language": "python",
   "name": "python3"
  },
  "language_info": {
   "codemirror_mode": {
    "name": "ipython",
    "version": 3
   },
   "file_extension": ".py",
   "mimetype": "text/x-python",
   "name": "python",
   "nbconvert_exporter": "python",
   "pygments_lexer": "ipython3",
   "version": "3.7.4"
  }
 },
 "nbformat": 4,
 "nbformat_minor": 2
}
